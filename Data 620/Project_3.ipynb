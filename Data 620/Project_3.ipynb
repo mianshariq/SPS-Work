{
  "nbformat": 4,
  "nbformat_minor": 0,
  "metadata": {
    "colab": {
      "provenance": []
    },
    "kernelspec": {
      "name": "python3",
      "display_name": "Python 3"
    },
    "language_info": {
      "name": "python"
    }
  },
  "cells": [
    {
      "cell_type": "markdown",
      "source": [
        "# Introduction"
      ],
      "metadata": {
        "id": "9eYQ5kSq3Z5X"
      }
    },
    {
      "cell_type": "markdown",
      "source": [
        "\n",
        "### Once upon a time in a land called Nomenia, there was a village where people had unique names. The names in this village were not only distinct but also carried a hidden secret - they could reveal the gender of the person just by analyzing certain features of the name.\n",
        "\n",
        "### Intrigued by this phenomenon, a young linguist named Lily embarked on a quest to build the ultimate name gender classifier. Lily had read about various classifiers in the famous book \"Natural Language Processing with Python,\" and she was determined to put her knowledge into action.\n",
        "\n",
        "### Lily began her journey by diving into the Names Corpus, a vast collection of names from all around the world. She carefully split the corpus into three subsets: a test set of 500 names, a dev-test set of another 500 names, and a training set of 6,900 names.\n"
      ],
      "metadata": {
        "id": "La4trGQy1iu1"
      }
    },
    {
      "cell_type": "code",
      "execution_count": 1,
      "metadata": {
        "colab": {
          "base_uri": "https://localhost:8080/"
        },
        "id": "ahH4hhpq02PM",
        "outputId": "31f747f7-89a2-4401-e3cb-e423b98cb4b1"
      },
      "outputs": [
        {
          "output_type": "stream",
          "name": "stderr",
          "text": [
            "[nltk_data] Downloading package names to /root/nltk_data...\n",
            "[nltk_data]   Unzipping corpora/names.zip.\n"
          ]
        },
        {
          "output_type": "stream",
          "name": "stdout",
          "text": [
            "Accuracy (Last Letter): 0.768\n",
            "Accuracy (First Letter): 0.618\n",
            "Accuracy (First and Last Letter): 0.792\n",
            "Accuracy (First, Middle, and Last Letter): 0.778\n"
          ]
        }
      ],
      "source": [
        "import nltk\n",
        "from nltk.corpus import names\n",
        "import random\n",
        "import pandas as pd\n",
        "import matplotlib.pyplot as plt\n",
        "import numpy as np\n",
        "import seaborn as sns\n",
        "import nltk\n",
        "import random\n",
        "from nltk.classify import apply_features\n",
        "nltk.download('names')"
      ]
    },
    {
      "cell_type": "markdown",
      "source": [
        "\n",
        "### Equipped with the power of classifiers, Lily created four different sets of features that could help determine the gender of a name. The first set focused on the last letter of the name, while the second set considered only the first letter. The third set combined the first and last letters, and the fourth set included the first, middle, and last letters of the name.\n",
        "\n"
      ],
      "metadata": {
        "id": "WAPh2kw41768"
      }
    },
    {
      "cell_type": "code",
      "source": [
        "def gender_features(name):\n",
        "    return {'lastletter': name[-1]}\n",
        "\n",
        "def gender_features1(name):\n",
        "    return {'lastletter': name[0]}\n",
        "\n",
        "def gender_features2(name):\n",
        "    features = {}\n",
        "    features['firstletter'] = name[0].lower()\n",
        "    features['lastletter'] = name[-1].lower()\n",
        "    return features\n",
        "\n",
        "def gender_features3(name):\n",
        "    m = int(round(len(name)/2))\n",
        "    midletter = name[m].lower()\n",
        "    features = {}\n",
        "    features['first_letter'] = name[0].lower()\n",
        "    features['middle_letter'] = midletter\n",
        "    features['last_letter'] = name[-1].lower()\n",
        "    return features\n",
        "\n",
        "names = ([(name, 'male') for name in names.words('male.txt')] +\n",
        "         [(name, 'female') for name in names.words('female.txt')])\n",
        "random.shuffle(names)\n",
        "\n",
        "train_names = names[1500:]\n",
        "devtest_names = names[500:1500]\n",
        "test_names = names[:500]\n"
      ],
      "metadata": {
        "id": "5akdBE3g04MX"
      },
      "execution_count": null,
      "outputs": []
    },
    {
      "cell_type": "markdown",
      "source": [
        "### With her feature sets in place, Lily embarked on training her classifiers. She used the NaiveBayesClassifier from the powerful NLTK library to train each classifier using the training set. Once the training was complete, she evaluated the accuracy of each classifier using the dev-test set, which allowed her to fine-tune and improve her classifiers incrementally.\n",
        "\n",
        "### After numerous iterations of training and testing, Lily was finally satisfied with the performance of her classifiers. She eagerly tested the final versions of the classifiers on the test set, which contained previously unseen names.\n"
      ],
      "metadata": {
        "id": "vmkTZCun2OAG"
      }
    },
    {
      "cell_type": "code",
      "source": [
        "\n",
        "# Gender features = Last Letter\n",
        "train_set = [(gender_features(n), g) for (n, g) in train_names]\n",
        "devtest_set = [(gender_features(n), g) for (n, g) in devtest_names]\n",
        "test_set = [(gender_features(n), g) for (n, g) in test_names]\n",
        "\n",
        "classifier = nltk.NaiveBayesClassifier.train(train_set)\n",
        "accuracy = nltk.classify.accuracy(classifier, test_set)\n",
        "print(\"Accuracy (Last Letter):\", accuracy)\n",
        "\n",
        "# Gender features = First Letter\n",
        "train_set = [(gender_features1(n), g) for (n, g) in train_names]\n",
        "devtest_set = [(gender_features1(n), g) for (n, g) in devtest_names]\n",
        "test_set = [(gender_features1(n), g) for (n, g) in test_names]\n",
        "\n",
        "classifier = nltk.NaiveBayesClassifier.train(train_set)\n",
        "accuracy = nltk.classify.accuracy(classifier, test_set)\n",
        "print(\"Accuracy (First Letter):\", accuracy)\n",
        "\n",
        "# Gender features = First and Last Letter\n",
        "train_set = [(gender_features2(n), g) for (n, g) in train_names]\n",
        "devtest_set = [(gender_features2(n), g) for (n, g) in devtest_names]\n",
        "test_set = [(gender_features2(n), g) for (n, g) in test_names]\n",
        "\n",
        "classifier = nltk.NaiveBayesClassifier.train(train_set)\n",
        "accuracy = nltk.classify.accuracy(classifier, test_set)\n",
        "print(\"Accuracy (First and Last Letter):\", accuracy)\n",
        "\n",
        "# Gender features = First, Middle Letter, and Last Letter\n",
        "train_set = [(gender_features3(n), g) for (n, g) in train_names]\n",
        "devtest_set = [(gender_features3(n), g) for (n, g) in devtest_names]\n",
        "test_set = [(gender_features3(n), g) for (n, g) in test_names]\n",
        "\n",
        "classifier = nltk.NaiveBayesClassifier.train(train_set)\n",
        "accuracy = nltk.classify.accuracy(classifier, test_set)\n",
        "print(\"Accuracy (First, Middle, and Last Letter):\", accuracy)"
      ],
      "metadata": {
        "colab": {
          "base_uri": "https://localhost:8080/"
        },
        "id": "HuTE7rkC088e",
        "outputId": "3ba2796a-d7d9-4459-b130-5cc1261e9f63"
      },
      "execution_count": 3,
      "outputs": [
        {
          "output_type": "stream",
          "name": "stdout",
          "text": [
            "Accuracy (Last Letter): 0.768\n",
            "Accuracy (First Letter): 0.618\n",
            "Accuracy (First and Last Letter): 0.792\n"
          ]
        }
      ]
    },
    {
      "cell_type": "markdown",
      "source": [
        "\n",
        "### To her delight, Lily discovered that her classifiers performed remarkably well. The accuracy results for each feature set were displayed proudly on her screen. The Last Letter classifier achieved an accuracy of 76.8%, the First Letter classifier scored 61.8%, the First and Last Letter classifier reached 79.2%, and the First, Middle, and Last Letter classifier achieved an impressive accuracy of 77.8%. She aslo did tests on her dev_test sample and had simlar results.\n",
        "\n"
      ],
      "metadata": {
        "id": "v13xDDiX2UgX"
      }
    },
    {
      "cell_type": "code",
      "source": [
        "classifier = nltk.NaiveBayesClassifier.train(train_set)\n",
        "accuracy = nltk.classify.accuracy(classifier, devtest_set)\n",
        "print(\"Accuracy (Last Letter) - Dev Test:\", accuracy)\n",
        "\n",
        "# Gender features = First Letter\n",
        "train_set = [(gender_features1(n), g) for (n, g) in train_names]\n",
        "devtest_set = [(gender_features1(n), g) for (n, g) in devtest_names]\n",
        "test_set = [(gender_features1(n), g) for (n, g) in test_names]\n",
        "\n",
        "classifier = nltk.NaiveBayesClassifier.train(train_set)\n",
        "accuracy = nltk.classify.accuracy(classifier, devtest_set)\n",
        "print(\"Accuracy (First Letter) - Dev Test:\", accuracy)\n",
        "\n",
        "# Gender features = First and Last Letter\n",
        "train_set = [(gender_features2(n), g) for (n, g) in train_names]\n",
        "devtest_set = [(gender_features2(n), g) for (n, g) in devtest_names]\n",
        "test_set = [(gender_features2(n), g) for (n, g) in test_names]\n",
        "\n",
        "classifier = nltk.NaiveBayesClassifier.train(train_set)\n",
        "accuracy = nltk.classify.accuracy(classifier, devtest_set)\n",
        "print(\"Accuracy (First and Last Letter) - Dev Test:\", accuracy)\n",
        "\n",
        "# Gender features = First, Middle Letter, and Last Letter\n",
        "train_set = [(gender_features3(n), g) for (n, g) in train_names]\n",
        "devtest_set = [(gender_features3(n), g) for (n, g) in devtest_names]\n",
        "test_set = [(gender_features3(n), g) for (n, g) in test_names]\n",
        "\n",
        "classifier = nltk.NaiveBayesClassifier.train(train_set)\n",
        "accuracy = nltk.classify.accuracy(classifier, devtest_set)\n",
        "print(\"Accuracy (First, Middle, and Last Letter) - Dev Test:\", accuracy)"
      ],
      "metadata": {
        "colab": {
          "base_uri": "https://localhost:8080/"
        },
        "id": "Y22l9WRu38mf",
        "outputId": "787fe0ff-e96a-440e-f707-9650e622f691"
      },
      "execution_count": 4,
      "outputs": [
        {
          "output_type": "stream",
          "name": "stdout",
          "text": [
            "Accuracy (Last Letter) - Dev Test: 0.775\n",
            "Accuracy (First Letter) - Dev Test: 0.636\n",
            "Accuracy (First and Last Letter) - Dev Test: 0.77\n",
            "Accuracy (First, Middle, and Last Letter) - Dev Test: 0.775\n"
          ]
        }
      ]
    },
    {
      "cell_type": "markdown",
      "source": [
        "# Conclusion"
      ],
      "metadata": {
        "id": "jSuCeKLl3LJP"
      }
    },
    {
      "cell_type": "markdown",
      "source": [
        "### Lily was thrilled with her achievements, and she marveled at how analyzing the features of a name could reveal so much about a person's gender. She shared her findings with the people of Nomenia, who were equally fascinated by the power of the name gender classifier.\n",
        "\n",
        "And so, Lily's journey came to an end, leaving a lasting impact on the village of Nomenia. The villagers began to appreciate the significance of their names, and the classifiers became a valuable tool in determining gender, building a sense of identity, and fostering understanding among the community.\n"
      ],
      "metadata": {
        "id": "Ilhf-HmI2Y3G"
      }
    }
  ]
}